{
 "cells": [
  {
   "cell_type": "markdown",
   "metadata": {},
   "source": [
    "# 1 計算, テキスト, リスト"
   ]
  },
  {
   "cell_type": "markdown",
   "metadata": {},
   "source": [
    "## 1.0 基本事項"
   ]
  },
  {
   "cell_type": "markdown",
   "metadata": {},
   "source": [
    "プログラミングをするとき，変数(データ)には型が存在します．\n",
    "整数 (例えば、 ```2 、 4 、 20```) は int 型であり、小数部を持つ数 (例えば、 ```5.0 、 1.6```) は float 型です．\n",
    "\n",
    "変数```a```に100という数字を入れたい場合は代入演算子```=```を使い，\n",
    "\n",
    "```a=100```\n",
    "\n",
    "とします．\n",
    "\n",
    "例)"
   ]
  },
  {
   "cell_type": "code",
   "execution_count": 1,
   "metadata": {},
   "outputs": [],
   "source": [
    "PI = 3.141592653589793238462643"
   ]
  },
  {
   "cell_type": "markdown",
   "metadata": {},
   "source": [
    "\n",
    "変数などを表示したい場合は```print```関数を使います．\n",
    "\n",
    "例)"
   ]
  },
  {
   "cell_type": "code",
   "execution_count": 2,
   "metadata": {},
   "outputs": [
    {
     "name": "stdout",
     "output_type": "stream",
     "text": [
      "3.141592653589793\n",
      "Hellow World\n"
     ]
    }
   ],
   "source": [
    "print(PI)\n",
    "print(\"Hellow World\")"
   ]
  },
  {
   "cell_type": "markdown",
   "metadata": {},
   "source": [
    "ソースコード(プログラムを書いているファイル)中にコメントを残すことができます．\n",
    "\n",
    "pythonでは，先頭に```#```がある場合や，クォーテーション3つ```''', \"\"\"```で囲われた領域は，コメントとみなされて実行時に無視されます．\n",
    "\n",
    "基本的には，プログラムを理解しやすくするためにコメントを残します\n",
    "\n",
    "```PI = 3.141592653589793238462643 # 円周率``` \n",
    "\n",
    "例)"
   ]
  },
  {
   "cell_type": "code",
   "execution_count": null,
   "metadata": {},
   "outputs": [],
   "source": [
    "# この文はコメントです\n",
    "\"\"\"\n",
    "    シングル(ダブル)クォーテーションx3で囲むと実行時に無視されます．\n",
    "    改行しても大丈夫です．\n",
    "\"\"\"\n",
    "PI = 3.141592653589793238462643  # 円周率"
   ]
  },
  {
   "cell_type": "code",
   "execution_count": null,
   "metadata": {},
   "outputs": [],
   "source": [
    "そのまま実行するとエラーが出ます"
   ]
  },
  {
   "cell_type": "markdown",
   "metadata": {
    "vscode": {
     "languageId": "plaintext"
    }
   },
   "source": [
    "## 1.1 計算(和差乗除 + 剰余 + ベキ)"
   ]
  },
  {
   "cell_type": "markdown",
   "metadata": {},
   "source": [
    "### 和"
   ]
  },
  {
   "cell_type": "code",
   "execution_count": null,
   "metadata": {},
   "outputs": [],
   "source": [
    "2 + 2"
   ]
  },
  {
   "cell_type": "markdown",
   "metadata": {},
   "source": [
    "### 差"
   ]
  },
  {
   "cell_type": "code",
   "execution_count": null,
   "metadata": {},
   "outputs": [],
   "source": [
    "40 - 30"
   ]
  },
  {
   "cell_type": "markdown",
   "metadata": {},
   "source": [
    "### 乗"
   ]
  },
  {
   "cell_type": "code",
   "execution_count": null,
   "metadata": {},
   "outputs": [],
   "source": [
    "11 * 41"
   ]
  },
  {
   "cell_type": "markdown",
   "metadata": {},
   "source": [
    "### 除\n",
    "\n",
    "```/```だけだと，値は```float```になります．(普通の割り算)"
   ]
  },
  {
   "cell_type": "code",
   "execution_count": null,
   "metadata": {},
   "outputs": [],
   "source": [
    "30 / 3"
   ]
  },
  {
   "cell_type": "markdown",
   "metadata": {},
   "source": [
    "```//```だと，値は```int```になります(整数の割り算)\n",
    "\n",
    "*割られる数 or 割る数 が ```float```のときは型は```float```ですが，値は整数になります．"
   ]
  },
  {
   "cell_type": "code",
   "execution_count": null,
   "metadata": {},
   "outputs": [],
   "source": [
    "29 // 3"
   ]
  },
  {
   "cell_type": "markdown",
   "metadata": {},
   "source": [
    "### 剰余\n",
    "```%```演算子で余りを計算します．整数同士の"
   ]
  },
  {
   "cell_type": "code",
   "execution_count": null,
   "metadata": {},
   "outputs": [],
   "source": [
    "5 % 0.6"
   ]
  },
  {
   "cell_type": "markdown",
   "metadata": {},
   "source": [
    "### ベキ乗\n",
    "```**```"
   ]
  },
  {
   "cell_type": "code",
   "execution_count": null,
   "metadata": {},
   "outputs": [],
   "source": [
    " 2 ** 10"
   ]
  },
  {
   "cell_type": "code",
   "execution_count": null,
   "metadata": {},
   "outputs": [],
   "source": [
    "10 // 3"
   ]
  },
  {
   "cell_type": "markdown",
   "metadata": {},
   "source": [
    "## 1.2 テキスト"
   ]
  },
  {
   "cell_type": "markdown",
   "metadata": {},
   "source": [
    "Python は数値だけでなくテキスト (いわゆる「文字列」である ```str``` 型によって表現されます) を扱うことができます。 ! のような文字や rabbit のような単語、 Paris のような名前、 Got your back. ような文もすべて文字列です。 文字列はシングルクォート (```'...'```) またはダブルクォート (```\"...\"```) で囲み、どちらを使っても違いはありません"
   ]
  },
  {
   "cell_type": "code",
   "execution_count": null,
   "metadata": {},
   "outputs": [],
   "source": [
    "name = \"Python\"\n",
    "print(name)"
   ]
  },
  {
   "cell_type": "markdown",
   "metadata": {},
   "source": [
    "文字列の中では，バックスラッシュ```\\```でエスケープすることにより，様々なコマンドをしこめます．\n",
    "\n",
    "e.g.\n",
    "\n",
    "```\\n```: 改行\n",
    "\n",
    "```\\\"```: シングルクォーテーション\n",
    "\n",
    "```\\'```: ダブルクォーテーション\n"
   ]
  },
  {
   "cell_type": "markdown",
   "metadata": {},
   "source": [
    "## 演習問題 1"
   ]
  },
  {
   "cell_type": "markdown",
   "metadata": {},
   "source": [
    "### 1年が何秒か計算してください"
   ]
  },
  {
   "cell_type": "code",
   "execution_count": null,
   "metadata": {},
   "outputs": [],
   "source": [
    "# コードを書いてください"
   ]
  },
  {
   "cell_type": "markdown",
   "metadata": {},
   "source": [
    "### 時間t=4372907(sec)に対し， Hour:Minutes:Secondsを出力してください\n",
    "\n",
    "例)  10000 = 2:46:40\n",
    "\n",
    "**ヒント:** \n",
    "* hour = 3600秒で割った商．minutes = hour分を差し引いた秒数を60で割った商.\n",
    "\n",
    "* 複数の変数や値を並べて```print```する場合は，カンマ```,```や，```+```を使います\n",
    "\n",
    "    例) ```print(\"今日は\" + 2 + \"月\" + 9 + \"日です\")```\n",
    "\n",
    "    f文字という方法もあります．クォーテーションを```f\"\"```として，変数は```{}```で囲います．\n",
    "\n",
    "    例) ```print(f\"今日は{month}月{date}日です\")```"
   ]
  },
  {
   "cell_type": "code",
   "execution_count": 21,
   "metadata": {},
   "outputs": [],
   "source": [
    "t = 4372907\n",
    "# コードを書いてください"
   ]
  },
  {
   "cell_type": "markdown",
   "metadata": {},
   "source": [
    "## 1.3 リスト"
   ]
  },
  {
   "cell_type": "markdown",
   "metadata": {},
   "source": [
    "例えば，数列，時系列データを格納するには，変数1つでは足りません．かといって，各時刻における値$x_0, x_1, \\cdots, $をそれぞれ\n",
    "\n",
    "```x_0 = 1```\n",
    "\n",
    "```x_1 = 1.2```\n",
    "\n",
    "と1つずつ変数に入れるのはナンセンスです．\n",
    "\n",
    "このような時に，配列(リスト)を用います．\n",
    "リストとは，数値や文字列といった複数の変数を格納するものであり，以下のように扱います"
   ]
  },
  {
   "cell_type": "code",
   "execution_count": null,
   "metadata": {},
   "outputs": [],
   "source": [
    "lst1 = [1, 2, 3, 4, 5]\n",
    "lst2 = [\"panda\", \"dog\", \"cat\", \"rabbit\"]\n",
    "print(lst1, lst2)"
   ]
  },
  {
   "cell_type": "markdown",
   "metadata": {},
   "source": [
    "リストの各要素にアクセスするためには，インデックスを```[]```で指定する必要があります．\n",
    "\n",
    "pythonでは，k個目の要素のインデックスは，```k-1```なので，例えば，\n",
    "\n",
    "```lst=[10, 20, 30]```の1個目の要素```10```を取り出したい場合は，\n",
    "\n",
    "```lst[0]```\n",
    "\n",
    "とすれば良いです．"
   ]
  },
  {
   "cell_type": "markdown",
   "metadata": {},
   "source": [
    "# 演習問題解答例"
   ]
  },
  {
   "cell_type": "code",
   "execution_count": 24,
   "metadata": {},
   "outputs": [
    {
     "name": "stdout",
     "output_type": "stream",
     "text": [
      "1214:41:47\n"
     ]
    }
   ],
   "source": [
    "t = 4372907\n",
    "# 時間は秒を3600で割った商\n",
    "hour = t // 3600\n",
    "# 分は秒を3600で割った余りを60で割った商(もしくは，360で割った商を，60で割った余り)\n",
    "minute = (t % 3600) // 60\n",
    "# 秒は秒を60で割った余り\n",
    "second = t % 60\n",
    "\n",
    "#f-stringを使って，時間を表示\n",
    "print(f\"{hour}:{minute}:{second}\")"
   ]
  }
 ],
 "metadata": {
  "kernelspec": {
   "display_name": "Python 3 (ipykernel)",
   "language": "python",
   "name": "python3"
  },
  "language_info": {
   "codemirror_mode": {
    "name": "ipython",
    "version": 3
   },
   "file_extension": ".py",
   "mimetype": "text/x-python",
   "name": "python",
   "nbconvert_exporter": "python",
   "pygments_lexer": "ipython3",
   "version": "3.12.1"
  }
 },
 "nbformat": 4,
 "nbformat_minor": 4
}
